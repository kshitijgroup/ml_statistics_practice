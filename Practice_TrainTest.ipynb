{
 "cells": [
  {
   "cell_type": "code",
   "execution_count": 19,
   "metadata": {},
   "outputs": [],
   "source": [
    "import pandas as pd\n",
    "pd.set_option('display.max_columns', None)"
   ]
  },
  {
   "cell_type": "code",
   "execution_count": 22,
   "metadata": {},
   "outputs": [],
   "source": [
    "df = pd.read_csv('https://raw.githubusercontent.com/manishanker/statistics_ML_jan_2020/master/bank.csv', sep=';')"
   ]
  },
  {
   "cell_type": "code",
   "execution_count": 53,
   "metadata": {},
   "outputs": [
    {
     "data": {
      "text/plain": [
       "Index(['age', 'job', 'marital', 'education', 'default', 'balance', 'housing',\n",
       "       'loan', 'contact', 'day', 'month', 'duration', 'campaign', 'pdays',\n",
       "       'previous', 'poutcome', 'y'],\n",
       "      dtype='object')"
      ]
     },
     "execution_count": 53,
     "metadata": {},
     "output_type": "execute_result"
    }
   ],
   "source": [
    "df.columns"
   ]
  },
  {
   "cell_type": "code",
   "execution_count": 23,
   "metadata": {},
   "outputs": [
    {
     "data": {
      "text/plain": [
       "<bound method NDFrame.describe of       age            job  marital  education default balance housing loan  \\\n",
       "0      30     unemployed  married    primary      no    1787      no   no   \n",
       "1      33       services  married  secondary      no    4789     yes  yes   \n",
       "2      35     management   single   tertiary      no    1350     yes   no   \n",
       "3      30     management  married   tertiary      no    1476     yes  yes   \n",
       "4      59    blue-collar  married  secondary      no       0     yes   no   \n",
       "...   ...            ...      ...        ...     ...     ...     ...  ...   \n",
       "4516   33       services  married  secondary      no    -333     yes   no   \n",
       "4517   57  self-employed  married   tertiary     yes   -3313     yes  yes   \n",
       "4518   57     technician  married  secondary      no     295      no   no   \n",
       "4519   28    blue-collar  married  secondary      no    1137      no   no   \n",
       "4520   44            NaN      NaN   tertiary      no    1136     yes  yes   \n",
       "\n",
       "       contact   day month  duration  campaign  pdays  previous poutcome   y  \n",
       "0     cellular  19.0   oct      79.0         1     -1         0  unknown  no  \n",
       "1     cellular  11.0   may     220.0         1    339         4  failure  no  \n",
       "2     cellular  16.0   apr     185.0         1    330         1  failure  no  \n",
       "3      unknown   3.0   jun     199.0         4     -1         0  unknown  no  \n",
       "4      unknown   5.0   may     226.0         1     -1         0  unknown  no  \n",
       "...        ...   ...   ...       ...       ...    ...       ...      ...  ..  \n",
       "4516  cellular  30.0   jul     329.0         5     -1         0  unknown  no  \n",
       "4517   unknown   9.0   may     153.0         1     -1         0  unknown  no  \n",
       "4518  cellular  19.0   aug     151.0        11     -1         0  unknown  no  \n",
       "4519  cellular   6.0   feb     129.0         4    211         3    other  no  \n",
       "4520       NaN   3.0   apr       NaN         2    249         7    other  no  \n",
       "\n",
       "[4521 rows x 17 columns]>"
      ]
     },
     "execution_count": 23,
     "metadata": {},
     "output_type": "execute_result"
    }
   ],
   "source": [
    "df.describe"
   ]
  },
  {
   "cell_type": "code",
   "execution_count": 24,
   "metadata": {},
   "outputs": [
    {
     "data": {
      "text/plain": [
       "(4521, 17)"
      ]
     },
     "execution_count": 24,
     "metadata": {},
     "output_type": "execute_result"
    }
   ],
   "source": [
    "df.shape"
   ]
  },
  {
   "cell_type": "code",
   "execution_count": 25,
   "metadata": {},
   "outputs": [
    {
     "data": {
      "text/plain": [
       "age          0.000000\n",
       "job          0.066357\n",
       "marital      0.066357\n",
       "education    0.066357\n",
       "default      0.000000\n",
       "balance      0.022119\n",
       "housing      0.022119\n",
       "loan         0.000000\n",
       "contact      0.066357\n",
       "day          0.022119\n",
       "month        0.000000\n",
       "duration     0.044238\n",
       "campaign     0.000000\n",
       "pdays        0.000000\n",
       "previous     0.000000\n",
       "poutcome     0.000000\n",
       "y            0.066357\n",
       "dtype: float64"
      ]
     },
     "execution_count": 25,
     "metadata": {},
     "output_type": "execute_result"
    }
   ],
   "source": [
    "df.isna().sum()/df.shape[0]*100"
   ]
  },
  {
   "cell_type": "code",
   "execution_count": 26,
   "metadata": {},
   "outputs": [],
   "source": [
    "X = df.drop(['y'], axis=1)"
   ]
  },
  {
   "cell_type": "code",
   "execution_count": 32,
   "metadata": {},
   "outputs": [],
   "source": [
    "y = df['y']"
   ]
  },
  {
   "cell_type": "code",
   "execution_count": 33,
   "metadata": {},
   "outputs": [],
   "source": [
    "from sklearn.model_selection import train_test_split"
   ]
  },
  {
   "cell_type": "code",
   "execution_count": 61,
   "metadata": {},
   "outputs": [],
   "source": [
    "# Creating train and test data\n",
    "X_train, x_test, y_train, y_test = train_test_split(X, y, train_size=0.75,test_size=0.25, random_state=21)"
   ]
  },
  {
   "cell_type": "code",
   "execution_count": 71,
   "metadata": {},
   "outputs": [
    {
     "name": "stdout",
     "output_type": "stream",
     "text": [
      "(3390, 16)\n",
      "(1131, 16)\n",
      "(3390, 1)\n",
      "(1131, 1)\n"
     ]
    }
   ],
   "source": [
    "# Printing shape of each returned value from train_test_split method\n",
    "print(X_train.shape)\n",
    "print(x_test.shape)\n",
    "print(y_train.values.reshape(-1,1).shape)\n",
    "print(y_test.values.reshape(-1,1).shape)"
   ]
  },
  {
   "cell_type": "code",
   "execution_count": 63,
   "metadata": {},
   "outputs": [
    {
     "name": "stdout",
     "output_type": "stream",
     "text": [
      "<class 'pandas.core.series.Series'>\n"
     ]
    }
   ],
   "source": [
    "print(type(y_train))"
   ]
  },
  {
   "cell_type": "code",
   "execution_count": 57,
   "metadata": {},
   "outputs": [
    {
     "data": {
      "text/plain": [
       "no     2992\n",
       "yes     385\n",
       "No        6\n",
       "NO        2\n",
       "Yes       1\n",
       "yEs       1\n",
       "Name: y, dtype: int64"
      ]
     },
     "execution_count": 57,
     "metadata": {},
     "output_type": "execute_result"
    }
   ],
   "source": [
    "y_train.value_counts()"
   ]
  },
  {
   "cell_type": "code",
   "execution_count": 50,
   "metadata": {},
   "outputs": [
    {
     "data": {
      "text/plain": [
       "no     996\n",
       "yes    134\n",
       "NO       1\n",
       "Name: y, dtype: int64"
      ]
     },
     "execution_count": 50,
     "metadata": {},
     "output_type": "execute_result"
    }
   ],
   "source": [
    "y_test.value_counts()"
   ]
  },
  {
   "cell_type": "code",
   "execution_count": 68,
   "metadata": {},
   "outputs": [
    {
     "data": {
      "text/plain": [
       "no     3988\n",
       "yes     519\n",
       "No        6\n",
       "NO        3\n",
       "Yes       1\n",
       "yEs       1\n",
       "Name: y, dtype: int64"
      ]
     },
     "execution_count": 68,
     "metadata": {},
     "output_type": "execute_result"
    }
   ],
   "source": [
    "df['y'].value_counts()"
   ]
  }
 ],
 "metadata": {
  "kernelspec": {
   "display_name": "Python 3",
   "language": "python",
   "name": "python3"
  },
  "language_info": {
   "codemirror_mode": {
    "name": "ipython",
    "version": 3
   },
   "file_extension": ".py",
   "mimetype": "text/x-python",
   "name": "python",
   "nbconvert_exporter": "python",
   "pygments_lexer": "ipython3",
   "version": "3.7.6"
  }
 },
 "nbformat": 4,
 "nbformat_minor": 4
}
